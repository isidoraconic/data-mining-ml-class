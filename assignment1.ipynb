{
 "cells": [
  {
   "cell_type": "markdown",
   "metadata": {},
   "source": [
    "# Exploring the MovieLens 1M Dataset"
   ]
  },
  {
   "cell_type": "markdown",
   "metadata": {},
   "source": [
    "#### Based on an example from *Python for Data Analysis (Wes McKinney)*"
   ]
  },
  {
   "cell_type": "markdown",
   "metadata": {},
   "source": [
    "This dataset contains 1 million ratings collected from 6,000 users on 4,000 movies, and it is organized into three tables:\n",
    "\n",
    "\n",
    "*   Ratings\n",
    "*   Users\n",
    "*   Movie information\n",
    "\n",
    "Each table is available as a separate file, each containing a series of rows where columns are separated by two colons (*::*).\n",
    "\n",
    "\n",
    "[Download the original dataset here](http://files.grouplens.org/datasets/movielens/ml-1m.zip)\n",
    "\n",
    "To make things easier, we have merged these datasets and separated the genres for you. To download the modified dataset that you can use to complete the assignment, see the **#assignments** slack channel."
   ]
  },
  {
   "cell_type": "markdown",
   "metadata": {},
   "source": [
    "## **Code**"
   ]
  },
  {
   "cell_type": "markdown",
   "metadata": {},
   "source": [
    "Let's begin by importing pandas. It is conventional to use *pd* to denote pandas"
   ]
  },
  {
   "cell_type": "code",
   "execution_count": 525,
   "metadata": {},
   "outputs": [],
   "source": [
    "import pandas as pd"
   ]
  },
  {
   "cell_type": "markdown",
   "metadata": {},
   "source": [
    "Next we will import our dataset"
   ]
  },
  {
   "cell_type": "code",
   "execution_count": 526,
   "metadata": {},
   "outputs": [],
   "source": [
    "data = pd.read_csv('movie_lens_genre_separated.tsv', sep='\\t')"
   ]
  },
  {
   "cell_type": "code",
   "execution_count": 527,
   "metadata": {},
   "outputs": [
    {
     "data": {
      "text/html": [
       "<div>\n",
       "<style scoped>\n",
       "    .dataframe tbody tr th:only-of-type {\n",
       "        vertical-align: middle;\n",
       "    }\n",
       "\n",
       "    .dataframe tbody tr th {\n",
       "        vertical-align: top;\n",
       "    }\n",
       "\n",
       "    .dataframe thead th {\n",
       "        text-align: right;\n",
       "    }\n",
       "</style>\n",
       "<table border=\"1\" class=\"dataframe\">\n",
       "  <thead>\n",
       "    <tr style=\"text-align: right;\">\n",
       "      <th></th>\n",
       "      <th>user_id</th>\n",
       "      <th>movie_id</th>\n",
       "      <th>rating</th>\n",
       "      <th>timestamp</th>\n",
       "      <th>gender</th>\n",
       "      <th>age</th>\n",
       "      <th>occupation</th>\n",
       "      <th>zip</th>\n",
       "      <th>title</th>\n",
       "      <th>genres</th>\n",
       "    </tr>\n",
       "  </thead>\n",
       "  <tbody>\n",
       "    <tr>\n",
       "      <th>0</th>\n",
       "      <td>2917</td>\n",
       "      <td>2355</td>\n",
       "      <td>2</td>\n",
       "      <td>971730180</td>\n",
       "      <td>M</td>\n",
       "      <td>25</td>\n",
       "      <td>0</td>\n",
       "      <td>60201</td>\n",
       "      <td>Bug's Life, A (1998)</td>\n",
       "      <td>Animation</td>\n",
       "    </tr>\n",
       "    <tr>\n",
       "      <th>1</th>\n",
       "      <td>2917</td>\n",
       "      <td>2355</td>\n",
       "      <td>2</td>\n",
       "      <td>971730180</td>\n",
       "      <td>M</td>\n",
       "      <td>25</td>\n",
       "      <td>0</td>\n",
       "      <td>60201</td>\n",
       "      <td>Bug's Life, A (1998)</td>\n",
       "      <td>Children's</td>\n",
       "    </tr>\n",
       "    <tr>\n",
       "      <th>2</th>\n",
       "      <td>2917</td>\n",
       "      <td>2355</td>\n",
       "      <td>2</td>\n",
       "      <td>971730180</td>\n",
       "      <td>M</td>\n",
       "      <td>25</td>\n",
       "      <td>0</td>\n",
       "      <td>60201</td>\n",
       "      <td>Bug's Life, A (1998)</td>\n",
       "      <td>Comedy</td>\n",
       "    </tr>\n",
       "    <tr>\n",
       "      <th>3</th>\n",
       "      <td>2924</td>\n",
       "      <td>2355</td>\n",
       "      <td>4</td>\n",
       "      <td>971592069</td>\n",
       "      <td>F</td>\n",
       "      <td>18</td>\n",
       "      <td>4</td>\n",
       "      <td>94121</td>\n",
       "      <td>Bug's Life, A (1998)</td>\n",
       "      <td>Animation</td>\n",
       "    </tr>\n",
       "    <tr>\n",
       "      <th>4</th>\n",
       "      <td>2924</td>\n",
       "      <td>2355</td>\n",
       "      <td>4</td>\n",
       "      <td>971592069</td>\n",
       "      <td>F</td>\n",
       "      <td>18</td>\n",
       "      <td>4</td>\n",
       "      <td>94121</td>\n",
       "      <td>Bug's Life, A (1998)</td>\n",
       "      <td>Children's</td>\n",
       "    </tr>\n",
       "  </tbody>\n",
       "</table>\n",
       "</div>"
      ],
      "text/plain": [
       "   user_id  movie_id  rating  timestamp gender  age  occupation    zip  \\\n",
       "0     2917      2355       2  971730180      M   25           0  60201   \n",
       "1     2917      2355       2  971730180      M   25           0  60201   \n",
       "2     2917      2355       2  971730180      M   25           0  60201   \n",
       "3     2924      2355       4  971592069      F   18           4  94121   \n",
       "4     2924      2355       4  971592069      F   18           4  94121   \n",
       "\n",
       "                  title      genres  \n",
       "0  Bug's Life, A (1998)   Animation  \n",
       "1  Bug's Life, A (1998)  Children's  \n",
       "2  Bug's Life, A (1998)      Comedy  \n",
       "3  Bug's Life, A (1998)   Animation  \n",
       "4  Bug's Life, A (1998)  Children's  "
      ]
     },
     "execution_count": 527,
     "metadata": {},
     "output_type": "execute_result"
    }
   ],
   "source": [
    "data.head()"
   ]
  },
  {
   "cell_type": "markdown",
   "metadata": {},
   "source": [
    "In this form, aggregating the ratings grouped by one or more user or movie characteristics is straightforward once you build some familiarity with pandas. To get mean movie ratings for each film grouped by gender, we can use the pivot_table method:\n"
   ]
  },
  {
   "cell_type": "code",
   "execution_count": 528,
   "metadata": {},
   "outputs": [],
   "source": [
    "mean_ratings = data.pivot_table('rating', index='title', columns='gender', aggfunc='mean')"
   ]
  },
  {
   "cell_type": "code",
   "execution_count": 529,
   "metadata": {},
   "outputs": [
    {
     "data": {
      "text/html": [
       "<div>\n",
       "<style scoped>\n",
       "    .dataframe tbody tr th:only-of-type {\n",
       "        vertical-align: middle;\n",
       "    }\n",
       "\n",
       "    .dataframe tbody tr th {\n",
       "        vertical-align: top;\n",
       "    }\n",
       "\n",
       "    .dataframe thead th {\n",
       "        text-align: right;\n",
       "    }\n",
       "</style>\n",
       "<table border=\"1\" class=\"dataframe\">\n",
       "  <thead>\n",
       "    <tr style=\"text-align: right;\">\n",
       "      <th>gender</th>\n",
       "      <th>F</th>\n",
       "      <th>M</th>\n",
       "    </tr>\n",
       "    <tr>\n",
       "      <th>title</th>\n",
       "      <th></th>\n",
       "      <th></th>\n",
       "    </tr>\n",
       "  </thead>\n",
       "  <tbody>\n",
       "    <tr>\n",
       "      <th>$1,000,000 Duck (1971)</th>\n",
       "      <td>3.375000</td>\n",
       "      <td>2.761905</td>\n",
       "    </tr>\n",
       "    <tr>\n",
       "      <th>'Night Mother (1986)</th>\n",
       "      <td>3.388889</td>\n",
       "      <td>3.352941</td>\n",
       "    </tr>\n",
       "    <tr>\n",
       "      <th>'Til There Was You (1997)</th>\n",
       "      <td>2.675676</td>\n",
       "      <td>2.733333</td>\n",
       "    </tr>\n",
       "    <tr>\n",
       "      <th>'burbs, The (1989)</th>\n",
       "      <td>2.793478</td>\n",
       "      <td>2.962085</td>\n",
       "    </tr>\n",
       "    <tr>\n",
       "      <th>...And Justice for All (1979)</th>\n",
       "      <td>3.828571</td>\n",
       "      <td>3.689024</td>\n",
       "    </tr>\n",
       "  </tbody>\n",
       "</table>\n",
       "</div>"
      ],
      "text/plain": [
       "gender                                F         M\n",
       "title                                            \n",
       "$1,000,000 Duck (1971)         3.375000  2.761905\n",
       "'Night Mother (1986)           3.388889  3.352941\n",
       "'Til There Was You (1997)      2.675676  2.733333\n",
       "'burbs, The (1989)             2.793478  2.962085\n",
       "...And Justice for All (1979)  3.828571  3.689024"
      ]
     },
     "execution_count": 529,
     "metadata": {},
     "output_type": "execute_result"
    }
   ],
   "source": [
    "mean_ratings[:5]"
   ]
  },
  {
   "cell_type": "markdown",
   "metadata": {},
   "source": [
    "If we wish to only look at movies that received more than a certain number of ratings, we can group them as follows (here using 250 ratings):"
   ]
  },
  {
   "cell_type": "code",
   "execution_count": 530,
   "metadata": {},
   "outputs": [],
   "source": [
    "ratings_by_title = data.groupby('title').size()"
   ]
  },
  {
   "cell_type": "code",
   "execution_count": 531,
   "metadata": {},
   "outputs": [
    {
     "data": {
      "text/plain": [
       "title\n",
       "$1,000,000 Duck (1971)            74\n",
       "'Night Mother (1986)              70\n",
       "'Til There Was You (1997)        104\n",
       "'burbs, The (1989)               303\n",
       "...And Justice for All (1979)    398\n",
       "dtype: int64"
      ]
     },
     "execution_count": 531,
     "metadata": {},
     "output_type": "execute_result"
    }
   ],
   "source": [
    "ratings_by_title[:5]"
   ]
  },
  {
   "cell_type": "markdown",
   "metadata": {},
   "source": [
    "Let's now grab the titles of movies that were rated more than 250 times:"
   ]
  },
  {
   "cell_type": "code",
   "execution_count": 532,
   "metadata": {},
   "outputs": [],
   "source": [
    "active_titles = ratings_by_title.index[ratings_by_title >= 250]"
   ]
  },
  {
   "cell_type": "code",
   "execution_count": 533,
   "metadata": {},
   "outputs": [
    {
     "data": {
      "text/plain": [
       "Index([''burbs, The (1989)', '...And Justice for All (1979)',\n",
       "       '10 Things I Hate About You (1999)', '101 Dalmatians (1961)',\n",
       "       '101 Dalmatians (1996)'],\n",
       "      dtype='object', name='title')"
      ]
     },
     "execution_count": 533,
     "metadata": {},
     "output_type": "execute_result"
    }
   ],
   "source": [
    "active_titles[:5]"
   ]
  },
  {
   "cell_type": "markdown",
   "metadata": {},
   "source": [
    "The index of titles receiving at least 250 ratings can then be used to select rows from mean_ratings above:\n"
   ]
  },
  {
   "cell_type": "code",
   "execution_count": 534,
   "metadata": {},
   "outputs": [],
   "source": [
    "mean_ratings = mean_ratings.loc[active_titles]"
   ]
  },
  {
   "cell_type": "code",
   "execution_count": 535,
   "metadata": {},
   "outputs": [
    {
     "data": {
      "text/html": [
       "<div>\n",
       "<style scoped>\n",
       "    .dataframe tbody tr th:only-of-type {\n",
       "        vertical-align: middle;\n",
       "    }\n",
       "\n",
       "    .dataframe tbody tr th {\n",
       "        vertical-align: top;\n",
       "    }\n",
       "\n",
       "    .dataframe thead th {\n",
       "        text-align: right;\n",
       "    }\n",
       "</style>\n",
       "<table border=\"1\" class=\"dataframe\">\n",
       "  <thead>\n",
       "    <tr style=\"text-align: right;\">\n",
       "      <th>gender</th>\n",
       "      <th>F</th>\n",
       "      <th>M</th>\n",
       "    </tr>\n",
       "    <tr>\n",
       "      <th>title</th>\n",
       "      <th></th>\n",
       "      <th></th>\n",
       "    </tr>\n",
       "  </thead>\n",
       "  <tbody>\n",
       "    <tr>\n",
       "      <th>'burbs, The (1989)</th>\n",
       "      <td>2.793478</td>\n",
       "      <td>2.962085</td>\n",
       "    </tr>\n",
       "    <tr>\n",
       "      <th>...And Justice for All (1979)</th>\n",
       "      <td>3.828571</td>\n",
       "      <td>3.689024</td>\n",
       "    </tr>\n",
       "    <tr>\n",
       "      <th>10 Things I Hate About You (1999)</th>\n",
       "      <td>3.646552</td>\n",
       "      <td>3.311966</td>\n",
       "    </tr>\n",
       "    <tr>\n",
       "      <th>101 Dalmatians (1961)</th>\n",
       "      <td>3.791444</td>\n",
       "      <td>3.500000</td>\n",
       "    </tr>\n",
       "    <tr>\n",
       "      <th>101 Dalmatians (1996)</th>\n",
       "      <td>3.240000</td>\n",
       "      <td>2.911215</td>\n",
       "    </tr>\n",
       "  </tbody>\n",
       "</table>\n",
       "</div>"
      ],
      "text/plain": [
       "gender                                    F         M\n",
       "title                                                \n",
       "'burbs, The (1989)                 2.793478  2.962085\n",
       "...And Justice for All (1979)      3.828571  3.689024\n",
       "10 Things I Hate About You (1999)  3.646552  3.311966\n",
       "101 Dalmatians (1961)              3.791444  3.500000\n",
       "101 Dalmatians (1996)              3.240000  2.911215"
      ]
     },
     "execution_count": 535,
     "metadata": {},
     "output_type": "execute_result"
    }
   ],
   "source": [
    "mean_ratings[:5]"
   ]
  },
  {
   "cell_type": "markdown",
   "metadata": {},
   "source": [
    "To see the top films among female viewers, we can sort by the F column in descending order:"
   ]
  },
  {
   "cell_type": "code",
   "execution_count": 536,
   "metadata": {},
   "outputs": [],
   "source": [
    "top_female_ratings = mean_ratings.sort_values(by='F', ascending=False)"
   ]
  },
  {
   "cell_type": "code",
   "execution_count": 537,
   "metadata": {},
   "outputs": [
    {
     "data": {
      "text/html": [
       "<div>\n",
       "<style scoped>\n",
       "    .dataframe tbody tr th:only-of-type {\n",
       "        vertical-align: middle;\n",
       "    }\n",
       "\n",
       "    .dataframe tbody tr th {\n",
       "        vertical-align: top;\n",
       "    }\n",
       "\n",
       "    .dataframe thead th {\n",
       "        text-align: right;\n",
       "    }\n",
       "</style>\n",
       "<table border=\"1\" class=\"dataframe\">\n",
       "  <thead>\n",
       "    <tr style=\"text-align: right;\">\n",
       "      <th>gender</th>\n",
       "      <th>F</th>\n",
       "      <th>M</th>\n",
       "    </tr>\n",
       "    <tr>\n",
       "      <th>title</th>\n",
       "      <th></th>\n",
       "      <th></th>\n",
       "    </tr>\n",
       "  </thead>\n",
       "  <tbody>\n",
       "    <tr>\n",
       "      <th>Close Shave, A (1995)</th>\n",
       "      <td>4.644444</td>\n",
       "      <td>4.473795</td>\n",
       "    </tr>\n",
       "    <tr>\n",
       "      <th>Wrong Trousers, The (1993)</th>\n",
       "      <td>4.588235</td>\n",
       "      <td>4.478261</td>\n",
       "    </tr>\n",
       "    <tr>\n",
       "      <th>Sunset Blvd. (a.k.a. Sunset Boulevard) (1950)</th>\n",
       "      <td>4.572650</td>\n",
       "      <td>4.464589</td>\n",
       "    </tr>\n",
       "    <tr>\n",
       "      <th>Wallace &amp; Gromit: The Best of Aardman Animation (1996)</th>\n",
       "      <td>4.563107</td>\n",
       "      <td>4.385075</td>\n",
       "    </tr>\n",
       "    <tr>\n",
       "      <th>Schindler's List (1993)</th>\n",
       "      <td>4.562602</td>\n",
       "      <td>4.491415</td>\n",
       "    </tr>\n",
       "    <tr>\n",
       "      <th>Grand Illusion (Grande illusion, La) (1937)</th>\n",
       "      <td>4.560976</td>\n",
       "      <td>4.266129</td>\n",
       "    </tr>\n",
       "    <tr>\n",
       "      <th>Shawshank Redemption, The (1994)</th>\n",
       "      <td>4.539075</td>\n",
       "      <td>4.560625</td>\n",
       "    </tr>\n",
       "    <tr>\n",
       "      <th>Grand Day Out, A (1992)</th>\n",
       "      <td>4.537879</td>\n",
       "      <td>4.293255</td>\n",
       "    </tr>\n",
       "    <tr>\n",
       "      <th>To Kill a Mockingbird (1962)</th>\n",
       "      <td>4.536667</td>\n",
       "      <td>4.372611</td>\n",
       "    </tr>\n",
       "    <tr>\n",
       "      <th>Creature Comforts (1990)</th>\n",
       "      <td>4.513889</td>\n",
       "      <td>4.272277</td>\n",
       "    </tr>\n",
       "  </tbody>\n",
       "</table>\n",
       "</div>"
      ],
      "text/plain": [
       "gender                                                     F         M\n",
       "title                                                                 \n",
       "Close Shave, A (1995)                               4.644444  4.473795\n",
       "Wrong Trousers, The (1993)                          4.588235  4.478261\n",
       "Sunset Blvd. (a.k.a. Sunset Boulevard) (1950)       4.572650  4.464589\n",
       "Wallace & Gromit: The Best of Aardman Animation...  4.563107  4.385075\n",
       "Schindler's List (1993)                             4.562602  4.491415\n",
       "Grand Illusion (Grande illusion, La) (1937)         4.560976  4.266129\n",
       "Shawshank Redemption, The (1994)                    4.539075  4.560625\n",
       "Grand Day Out, A (1992)                             4.537879  4.293255\n",
       "To Kill a Mockingbird (1962)                        4.536667  4.372611\n",
       "Creature Comforts (1990)                            4.513889  4.272277"
      ]
     },
     "execution_count": 537,
     "metadata": {},
     "output_type": "execute_result"
    }
   ],
   "source": [
    "top_female_ratings[:10]"
   ]
  },
  {
   "cell_type": "markdown",
   "metadata": {},
   "source": [
    "Likewise, for males:"
   ]
  },
  {
   "cell_type": "code",
   "execution_count": 538,
   "metadata": {},
   "outputs": [],
   "source": [
    "top_male_ratings = mean_ratings.sort_values(by='M', ascending=False)"
   ]
  },
  {
   "cell_type": "code",
   "execution_count": 539,
   "metadata": {},
   "outputs": [
    {
     "data": {
      "text/html": [
       "<div>\n",
       "<style scoped>\n",
       "    .dataframe tbody tr th:only-of-type {\n",
       "        vertical-align: middle;\n",
       "    }\n",
       "\n",
       "    .dataframe tbody tr th {\n",
       "        vertical-align: top;\n",
       "    }\n",
       "\n",
       "    .dataframe thead th {\n",
       "        text-align: right;\n",
       "    }\n",
       "</style>\n",
       "<table border=\"1\" class=\"dataframe\">\n",
       "  <thead>\n",
       "    <tr style=\"text-align: right;\">\n",
       "      <th>gender</th>\n",
       "      <th>F</th>\n",
       "      <th>M</th>\n",
       "    </tr>\n",
       "    <tr>\n",
       "      <th>title</th>\n",
       "      <th></th>\n",
       "      <th></th>\n",
       "    </tr>\n",
       "  </thead>\n",
       "  <tbody>\n",
       "    <tr>\n",
       "      <th>Godfather, The (1972)</th>\n",
       "      <td>4.314700</td>\n",
       "      <td>4.583333</td>\n",
       "    </tr>\n",
       "    <tr>\n",
       "      <th>Seven Samurai (The Magnificent Seven) (Shichinin no samurai) (1954)</th>\n",
       "      <td>4.481132</td>\n",
       "      <td>4.576628</td>\n",
       "    </tr>\n",
       "    <tr>\n",
       "      <th>Shawshank Redemption, The (1994)</th>\n",
       "      <td>4.539075</td>\n",
       "      <td>4.560625</td>\n",
       "    </tr>\n",
       "    <tr>\n",
       "      <th>Raiders of the Lost Ark (1981)</th>\n",
       "      <td>4.332168</td>\n",
       "      <td>4.520597</td>\n",
       "    </tr>\n",
       "    <tr>\n",
       "      <th>Usual Suspects, The (1995)</th>\n",
       "      <td>4.513317</td>\n",
       "      <td>4.518248</td>\n",
       "    </tr>\n",
       "    <tr>\n",
       "      <th>Star Wars: Episode IV - A New Hope (1977)</th>\n",
       "      <td>4.302937</td>\n",
       "      <td>4.495307</td>\n",
       "    </tr>\n",
       "    <tr>\n",
       "      <th>Schindler's List (1993)</th>\n",
       "      <td>4.562602</td>\n",
       "      <td>4.491415</td>\n",
       "    </tr>\n",
       "    <tr>\n",
       "      <th>Paths of Glory (1957)</th>\n",
       "      <td>4.392857</td>\n",
       "      <td>4.485149</td>\n",
       "    </tr>\n",
       "    <tr>\n",
       "      <th>Wrong Trousers, The (1993)</th>\n",
       "      <td>4.588235</td>\n",
       "      <td>4.478261</td>\n",
       "    </tr>\n",
       "    <tr>\n",
       "      <th>Close Shave, A (1995)</th>\n",
       "      <td>4.644444</td>\n",
       "      <td>4.473795</td>\n",
       "    </tr>\n",
       "  </tbody>\n",
       "</table>\n",
       "</div>"
      ],
      "text/plain": [
       "gender                                                     F         M\n",
       "title                                                                 \n",
       "Godfather, The (1972)                               4.314700  4.583333\n",
       "Seven Samurai (The Magnificent Seven) (Shichini...  4.481132  4.576628\n",
       "Shawshank Redemption, The (1994)                    4.539075  4.560625\n",
       "Raiders of the Lost Ark (1981)                      4.332168  4.520597\n",
       "Usual Suspects, The (1995)                          4.513317  4.518248\n",
       "Star Wars: Episode IV - A New Hope (1977)           4.302937  4.495307\n",
       "Schindler's List (1993)                             4.562602  4.491415\n",
       "Paths of Glory (1957)                               4.392857  4.485149\n",
       "Wrong Trousers, The (1993)                          4.588235  4.478261\n",
       "Close Shave, A (1995)                               4.644444  4.473795"
      ]
     },
     "execution_count": 539,
     "metadata": {},
     "output_type": "execute_result"
    }
   ],
   "source": [
    "top_male_ratings[:10]"
   ]
  },
  {
   "cell_type": "markdown",
   "metadata": {},
   "source": [
    "Suppose you wanted to find the movies that are most divisive between male and female viewers. One way is to add a column to *mean_ratings* containing the difference in means, then sort by that:"
   ]
  },
  {
   "cell_type": "code",
   "execution_count": 540,
   "metadata": {},
   "outputs": [],
   "source": [
    "mean_ratings['diff'] = mean_ratings['M'] - mean_ratings['F']"
   ]
  },
  {
   "cell_type": "markdown",
   "metadata": {},
   "source": [
    "Sorting by 'diff' gives us the movies with the greatest rating difference and which were preferred by women:"
   ]
  },
  {
   "cell_type": "code",
   "execution_count": 541,
   "metadata": {},
   "outputs": [],
   "source": [
    "sorted_by_diff = mean_ratings.sort_values(by='diff')"
   ]
  },
  {
   "cell_type": "code",
   "execution_count": 542,
   "metadata": {},
   "outputs": [
    {
     "data": {
      "text/html": [
       "<div>\n",
       "<style scoped>\n",
       "    .dataframe tbody tr th:only-of-type {\n",
       "        vertical-align: middle;\n",
       "    }\n",
       "\n",
       "    .dataframe tbody tr th {\n",
       "        vertical-align: top;\n",
       "    }\n",
       "\n",
       "    .dataframe thead th {\n",
       "        text-align: right;\n",
       "    }\n",
       "</style>\n",
       "<table border=\"1\" class=\"dataframe\">\n",
       "  <thead>\n",
       "    <tr style=\"text-align: right;\">\n",
       "      <th>gender</th>\n",
       "      <th>F</th>\n",
       "      <th>M</th>\n",
       "      <th>diff</th>\n",
       "    </tr>\n",
       "    <tr>\n",
       "      <th>title</th>\n",
       "      <th></th>\n",
       "      <th></th>\n",
       "      <th></th>\n",
       "    </tr>\n",
       "  </thead>\n",
       "  <tbody>\n",
       "    <tr>\n",
       "      <th>Cutthroat Island (1995)</th>\n",
       "      <td>3.200000</td>\n",
       "      <td>2.341270</td>\n",
       "      <td>-0.858730</td>\n",
       "    </tr>\n",
       "    <tr>\n",
       "      <th>Dirty Dancing (1987)</th>\n",
       "      <td>3.790378</td>\n",
       "      <td>2.959596</td>\n",
       "      <td>-0.830782</td>\n",
       "    </tr>\n",
       "    <tr>\n",
       "      <th>Home Alone 3 (1997)</th>\n",
       "      <td>2.486486</td>\n",
       "      <td>1.683761</td>\n",
       "      <td>-0.802726</td>\n",
       "    </tr>\n",
       "    <tr>\n",
       "      <th>That Darn Cat! (1997)</th>\n",
       "      <td>3.156250</td>\n",
       "      <td>2.435484</td>\n",
       "      <td>-0.720766</td>\n",
       "    </tr>\n",
       "    <tr>\n",
       "      <th>Jumpin' Jack Flash (1986)</th>\n",
       "      <td>3.254717</td>\n",
       "      <td>2.578358</td>\n",
       "      <td>-0.676359</td>\n",
       "    </tr>\n",
       "    <tr>\n",
       "      <th>Dracula: Dead and Loving It (1995)</th>\n",
       "      <td>2.892857</td>\n",
       "      <td>2.250000</td>\n",
       "      <td>-0.642857</td>\n",
       "    </tr>\n",
       "    <tr>\n",
       "      <th>Pagemaster, The (1994)</th>\n",
       "      <td>3.146341</td>\n",
       "      <td>2.510638</td>\n",
       "      <td>-0.635703</td>\n",
       "    </tr>\n",
       "    <tr>\n",
       "      <th>Grease (1978)</th>\n",
       "      <td>3.975265</td>\n",
       "      <td>3.367041</td>\n",
       "      <td>-0.608224</td>\n",
       "    </tr>\n",
       "    <tr>\n",
       "      <th>Herbie Goes Bananas (1980)</th>\n",
       "      <td>2.965517</td>\n",
       "      <td>2.373333</td>\n",
       "      <td>-0.592184</td>\n",
       "    </tr>\n",
       "    <tr>\n",
       "      <th>Angels in the Outfield (1994)</th>\n",
       "      <td>3.162500</td>\n",
       "      <td>2.580838</td>\n",
       "      <td>-0.581662</td>\n",
       "    </tr>\n",
       "  </tbody>\n",
       "</table>\n",
       "</div>"
      ],
      "text/plain": [
       "gender                                     F         M      diff\n",
       "title                                                           \n",
       "Cutthroat Island (1995)             3.200000  2.341270 -0.858730\n",
       "Dirty Dancing (1987)                3.790378  2.959596 -0.830782\n",
       "Home Alone 3 (1997)                 2.486486  1.683761 -0.802726\n",
       "That Darn Cat! (1997)               3.156250  2.435484 -0.720766\n",
       "Jumpin' Jack Flash (1986)           3.254717  2.578358 -0.676359\n",
       "Dracula: Dead and Loving It (1995)  2.892857  2.250000 -0.642857\n",
       "Pagemaster, The (1994)              3.146341  2.510638 -0.635703\n",
       "Grease (1978)                       3.975265  3.367041 -0.608224\n",
       "Herbie Goes Bananas (1980)          2.965517  2.373333 -0.592184\n",
       "Angels in the Outfield (1994)       3.162500  2.580838 -0.581662"
      ]
     },
     "execution_count": 542,
     "metadata": {},
     "output_type": "execute_result"
    }
   ],
   "source": [
    "sorted_by_diff[:10]"
   ]
  },
  {
   "cell_type": "markdown",
   "metadata": {},
   "source": [
    "Reversing the order of the rows and again slicing off the top 10 rows, we get the movies preferred by men that women didn’t rate highly:\n"
   ]
  },
  {
   "cell_type": "code",
   "execution_count": 543,
   "metadata": {},
   "outputs": [
    {
     "data": {
      "text/html": [
       "<div>\n",
       "<style scoped>\n",
       "    .dataframe tbody tr th:only-of-type {\n",
       "        vertical-align: middle;\n",
       "    }\n",
       "\n",
       "    .dataframe tbody tr th {\n",
       "        vertical-align: top;\n",
       "    }\n",
       "\n",
       "    .dataframe thead th {\n",
       "        text-align: right;\n",
       "    }\n",
       "</style>\n",
       "<table border=\"1\" class=\"dataframe\">\n",
       "  <thead>\n",
       "    <tr style=\"text-align: right;\">\n",
       "      <th>gender</th>\n",
       "      <th>F</th>\n",
       "      <th>M</th>\n",
       "      <th>diff</th>\n",
       "    </tr>\n",
       "    <tr>\n",
       "      <th>title</th>\n",
       "      <th></th>\n",
       "      <th></th>\n",
       "      <th></th>\n",
       "    </tr>\n",
       "  </thead>\n",
       "  <tbody>\n",
       "    <tr>\n",
       "      <th>Lifeforce (1985)</th>\n",
       "      <td>2.250000</td>\n",
       "      <td>2.994152</td>\n",
       "      <td>0.744152</td>\n",
       "    </tr>\n",
       "    <tr>\n",
       "      <th>Marked for Death (1990)</th>\n",
       "      <td>2.100000</td>\n",
       "      <td>2.837607</td>\n",
       "      <td>0.737607</td>\n",
       "    </tr>\n",
       "    <tr>\n",
       "      <th>Good, The Bad and The Ugly, The (1966)</th>\n",
       "      <td>3.494949</td>\n",
       "      <td>4.221300</td>\n",
       "      <td>0.726351</td>\n",
       "    </tr>\n",
       "    <tr>\n",
       "      <th>No Escape (1994)</th>\n",
       "      <td>2.300000</td>\n",
       "      <td>2.994048</td>\n",
       "      <td>0.694048</td>\n",
       "    </tr>\n",
       "    <tr>\n",
       "      <th>Kentucky Fried Movie, The (1977)</th>\n",
       "      <td>2.878788</td>\n",
       "      <td>3.555147</td>\n",
       "      <td>0.676359</td>\n",
       "    </tr>\n",
       "    <tr>\n",
       "      <th>Dumb &amp; Dumber (1994)</th>\n",
       "      <td>2.697987</td>\n",
       "      <td>3.336595</td>\n",
       "      <td>0.638608</td>\n",
       "    </tr>\n",
       "    <tr>\n",
       "      <th>Longest Day, The (1962)</th>\n",
       "      <td>3.411765</td>\n",
       "      <td>4.031447</td>\n",
       "      <td>0.619682</td>\n",
       "    </tr>\n",
       "    <tr>\n",
       "      <th>Cable Guy, The (1996)</th>\n",
       "      <td>2.250000</td>\n",
       "      <td>2.863787</td>\n",
       "      <td>0.613787</td>\n",
       "    </tr>\n",
       "    <tr>\n",
       "      <th>Evil Dead II (Dead By Dawn) (1987)</th>\n",
       "      <td>3.297297</td>\n",
       "      <td>3.909283</td>\n",
       "      <td>0.611985</td>\n",
       "    </tr>\n",
       "    <tr>\n",
       "      <th>Hidden, The (1987)</th>\n",
       "      <td>3.137931</td>\n",
       "      <td>3.745098</td>\n",
       "      <td>0.607167</td>\n",
       "    </tr>\n",
       "  </tbody>\n",
       "</table>\n",
       "</div>"
      ],
      "text/plain": [
       "gender                                         F         M      diff\n",
       "title                                                               \n",
       "Lifeforce (1985)                        2.250000  2.994152  0.744152\n",
       "Marked for Death (1990)                 2.100000  2.837607  0.737607\n",
       "Good, The Bad and The Ugly, The (1966)  3.494949  4.221300  0.726351\n",
       "No Escape (1994)                        2.300000  2.994048  0.694048\n",
       "Kentucky Fried Movie, The (1977)        2.878788  3.555147  0.676359\n",
       "Dumb & Dumber (1994)                    2.697987  3.336595  0.638608\n",
       "Longest Day, The (1962)                 3.411765  4.031447  0.619682\n",
       "Cable Guy, The (1996)                   2.250000  2.863787  0.613787\n",
       "Evil Dead II (Dead By Dawn) (1987)      3.297297  3.909283  0.611985\n",
       "Hidden, The (1987)                      3.137931  3.745098  0.607167"
      ]
     },
     "execution_count": 543,
     "metadata": {},
     "output_type": "execute_result"
    }
   ],
   "source": [
    "sorted_by_diff[::-1][:10]"
   ]
  },
  {
   "cell_type": "markdown",
   "metadata": {},
   "source": [
    "### Better formating the occupations and age groups"
   ]
  },
  {
   "cell_type": "code",
   "execution_count": 544,
   "metadata": {},
   "outputs": [],
   "source": [
    "# More info on the dataset can be found here: http://files.grouplens.org/datasets/movielens/ml-1m-README.txt\n",
    "\n",
    "occupation_dict = { \n",
    "    0: \"not specified\", \n",
    "    1: \"academic/educator\",\n",
    "    2:  \"artist\",\n",
    "    3:  \"clerical/admin\",\n",
    "    4:  \"college/grad student\",\n",
    "    5:  \"customer service\",\n",
    "    6:  \"doctor/health care\",\n",
    "    7:  \"executive/managerial\",\n",
    "    8:  \"farmer\",\n",
    "    9:  \"homemaker\",\n",
    "    10:  \"K-12 student\",\n",
    "    11:  \"lawyer\",\n",
    "    12:  \"programmer\",\n",
    "    13:  \"retired\",\n",
    "    14:  \"sales/marketing\",\n",
    "    15:  \"scientist\",\n",
    "    16:  \"self-employed\",\n",
    "    17:  \"technician/engineer\",\n",
    "    18:  \"tradesman/craftsman\",\n",
    "    19:  \"unemployed\",\n",
    "    20:  \"writer\"\n",
    "}\n",
    "\n",
    "age_dict = {\n",
    "    1:  \"Under 18\",\n",
    "    18:  \"18-24\",\n",
    "    25:  \"25-34\",\n",
    "    35:  \"35-44\",\n",
    "    45:  \"45-49\",\n",
    "    50:  \"50-55\",\n",
    "    56:  \"56+\"\n",
    "}"
   ]
  },
  {
   "cell_type": "code",
   "execution_count": 545,
   "metadata": {},
   "outputs": [],
   "source": [
    "data['age'] = [age_dict[x] for x in data['age']]\n",
    "data['occupation'] = [occupation_dict[x] for x in data['occupation']]"
   ]
  },
  {
   "cell_type": "code",
   "execution_count": 546,
   "metadata": {},
   "outputs": [
    {
     "data": {
      "text/html": [
       "<div>\n",
       "<style scoped>\n",
       "    .dataframe tbody tr th:only-of-type {\n",
       "        vertical-align: middle;\n",
       "    }\n",
       "\n",
       "    .dataframe tbody tr th {\n",
       "        vertical-align: top;\n",
       "    }\n",
       "\n",
       "    .dataframe thead th {\n",
       "        text-align: right;\n",
       "    }\n",
       "</style>\n",
       "<table border=\"1\" class=\"dataframe\">\n",
       "  <thead>\n",
       "    <tr style=\"text-align: right;\">\n",
       "      <th></th>\n",
       "      <th>user_id</th>\n",
       "      <th>movie_id</th>\n",
       "      <th>rating</th>\n",
       "      <th>timestamp</th>\n",
       "      <th>gender</th>\n",
       "      <th>age</th>\n",
       "      <th>occupation</th>\n",
       "      <th>zip</th>\n",
       "      <th>title</th>\n",
       "      <th>genres</th>\n",
       "    </tr>\n",
       "  </thead>\n",
       "  <tbody>\n",
       "    <tr>\n",
       "      <th>0</th>\n",
       "      <td>2917</td>\n",
       "      <td>2355</td>\n",
       "      <td>2</td>\n",
       "      <td>971730180</td>\n",
       "      <td>M</td>\n",
       "      <td>25-34</td>\n",
       "      <td>not specified</td>\n",
       "      <td>60201</td>\n",
       "      <td>Bug's Life, A (1998)</td>\n",
       "      <td>Animation</td>\n",
       "    </tr>\n",
       "    <tr>\n",
       "      <th>1</th>\n",
       "      <td>2917</td>\n",
       "      <td>2355</td>\n",
       "      <td>2</td>\n",
       "      <td>971730180</td>\n",
       "      <td>M</td>\n",
       "      <td>25-34</td>\n",
       "      <td>not specified</td>\n",
       "      <td>60201</td>\n",
       "      <td>Bug's Life, A (1998)</td>\n",
       "      <td>Children's</td>\n",
       "    </tr>\n",
       "    <tr>\n",
       "      <th>2</th>\n",
       "      <td>2917</td>\n",
       "      <td>2355</td>\n",
       "      <td>2</td>\n",
       "      <td>971730180</td>\n",
       "      <td>M</td>\n",
       "      <td>25-34</td>\n",
       "      <td>not specified</td>\n",
       "      <td>60201</td>\n",
       "      <td>Bug's Life, A (1998)</td>\n",
       "      <td>Comedy</td>\n",
       "    </tr>\n",
       "    <tr>\n",
       "      <th>3</th>\n",
       "      <td>2924</td>\n",
       "      <td>2355</td>\n",
       "      <td>4</td>\n",
       "      <td>971592069</td>\n",
       "      <td>F</td>\n",
       "      <td>18-24</td>\n",
       "      <td>college/grad student</td>\n",
       "      <td>94121</td>\n",
       "      <td>Bug's Life, A (1998)</td>\n",
       "      <td>Animation</td>\n",
       "    </tr>\n",
       "    <tr>\n",
       "      <th>4</th>\n",
       "      <td>2924</td>\n",
       "      <td>2355</td>\n",
       "      <td>4</td>\n",
       "      <td>971592069</td>\n",
       "      <td>F</td>\n",
       "      <td>18-24</td>\n",
       "      <td>college/grad student</td>\n",
       "      <td>94121</td>\n",
       "      <td>Bug's Life, A (1998)</td>\n",
       "      <td>Children's</td>\n",
       "    </tr>\n",
       "  </tbody>\n",
       "</table>\n",
       "</div>"
      ],
      "text/plain": [
       "   user_id  movie_id  rating  timestamp gender    age            occupation  \\\n",
       "0     2917      2355       2  971730180      M  25-34         not specified   \n",
       "1     2917      2355       2  971730180      M  25-34         not specified   \n",
       "2     2917      2355       2  971730180      M  25-34         not specified   \n",
       "3     2924      2355       4  971592069      F  18-24  college/grad student   \n",
       "4     2924      2355       4  971592069      F  18-24  college/grad student   \n",
       "\n",
       "     zip                 title      genres  \n",
       "0  60201  Bug's Life, A (1998)   Animation  \n",
       "1  60201  Bug's Life, A (1998)  Children's  \n",
       "2  60201  Bug's Life, A (1998)      Comedy  \n",
       "3  94121  Bug's Life, A (1998)   Animation  \n",
       "4  94121  Bug's Life, A (1998)  Children's  "
      ]
     },
     "execution_count": 546,
     "metadata": {},
     "output_type": "execute_result"
    }
   ],
   "source": [
    "data.head()"
   ]
  },
  {
   "cell_type": "markdown",
   "metadata": {},
   "source": [
    "# Assignment 1 - Isidora Conic"
   ]
  },
  {
   "cell_type": "markdown",
   "metadata": {},
   "source": [
    "## Everything below this point are answers to the assignment questions."
   ]
  },
  {
   "cell_type": "markdown",
   "metadata": {},
   "source": [
    "**Question 1:** *An aggregate (i.e. average) of the movie ratings for each particular genre.*"
   ]
  },
  {
   "cell_type": "code",
   "execution_count": 547,
   "metadata": {
    "scrolled": true
   },
   "outputs": [
    {
     "data": {
      "text/plain": [
       "genres\n",
       "Action         3.491185\n",
       "Adventure      3.477257\n",
       "Animation      3.684895\n",
       "Children's     3.422087\n",
       "Comedy         3.522107\n",
       "Crime          3.708679\n",
       "Documentary    3.933123\n",
       "Drama          3.766332\n",
       "Fantasy        3.447371\n",
       "Film-Noir      4.075188\n",
       "Horror         3.215013\n",
       "Musical        3.665519\n",
       "Mystery        3.668102\n",
       "Romance        3.607465\n",
       "Sci-Fi         3.466521\n",
       "Thriller       3.570466\n",
       "War            3.893327\n",
       "Western        3.637770\n",
       "Name: rating, dtype: float64"
      ]
     },
     "execution_count": 547,
     "metadata": {},
     "output_type": "execute_result"
    }
   ],
   "source": [
    "#Getting the aggregate movie ratings for each genre \n",
    "genre_means = data.groupby(\"genres\")[\"rating\"].mean()\n",
    "genre_means"
   ]
  },
  {
   "cell_type": "markdown",
   "metadata": {},
   "source": [
    "**Question 2:** *The top 5 highest ranked genres by occupation.*"
   ]
  },
  {
   "cell_type": "code",
   "execution_count": 548,
   "metadata": {},
   "outputs": [],
   "source": [
    "import numpy as np"
   ]
  },
  {
   "cell_type": "code",
   "execution_count": 549,
   "metadata": {},
   "outputs": [],
   "source": [
    "#make pivot table \n",
    "genre_rating_by_occ = data.pivot_table('rating', index='occupation', columns='genres', aggfunc='mean')"
   ]
  },
  {
   "cell_type": "code",
   "execution_count": 550,
   "metadata": {},
   "outputs": [],
   "source": [
    "#Get list of all occupations\n",
    "occupations = data['occupation'].unique()"
   ]
  },
  {
   "cell_type": "code",
   "execution_count": 551,
   "metadata": {},
   "outputs": [],
   "source": [
    "#Create empty dataframe to insert columns into\n",
    "top_ranked_by_occ = pd.DataFrame(index = ['1st', '2nd', '3rd', '4th', '5th'])"
   ]
  },
  {
   "cell_type": "code",
   "execution_count": 552,
   "metadata": {},
   "outputs": [
    {
     "data": {
      "text/html": [
       "<div>\n",
       "<style scoped>\n",
       "    .dataframe tbody tr th:only-of-type {\n",
       "        vertical-align: middle;\n",
       "    }\n",
       "\n",
       "    .dataframe tbody tr th {\n",
       "        vertical-align: top;\n",
       "    }\n",
       "\n",
       "    .dataframe thead th {\n",
       "        text-align: right;\n",
       "    }\n",
       "</style>\n",
       "<table border=\"1\" class=\"dataframe\">\n",
       "  <thead>\n",
       "    <tr style=\"text-align: right;\">\n",
       "      <th></th>\n",
       "      <th>not specified</th>\n",
       "      <th>college/grad student</th>\n",
       "      <th>lawyer</th>\n",
       "      <th>writer</th>\n",
       "      <th>programmer</th>\n",
       "      <th>technician/engineer</th>\n",
       "      <th>K-12 student</th>\n",
       "      <th>self-employed</th>\n",
       "      <th>executive/managerial</th>\n",
       "      <th>academic/educator</th>\n",
       "      <th>...</th>\n",
       "      <th>farmer</th>\n",
       "      <th>artist</th>\n",
       "      <th>homemaker</th>\n",
       "      <th>unemployed</th>\n",
       "      <th>tradesman/craftsman</th>\n",
       "      <th>scientist</th>\n",
       "      <th>retired</th>\n",
       "      <th>customer service</th>\n",
       "      <th>sales/marketing</th>\n",
       "      <th>doctor/health care</th>\n",
       "    </tr>\n",
       "  </thead>\n",
       "  <tbody>\n",
       "    <tr>\n",
       "      <th>1st</th>\n",
       "      <td>Film-Noir</td>\n",
       "      <td>Film-Noir</td>\n",
       "      <td>Film-Noir</td>\n",
       "      <td>Film-Noir</td>\n",
       "      <td>Film-Noir</td>\n",
       "      <td>Film-Noir</td>\n",
       "      <td>Film-Noir</td>\n",
       "      <td>Film-Noir</td>\n",
       "      <td>Film-Noir</td>\n",
       "      <td>Film-Noir</td>\n",
       "      <td>...</td>\n",
       "      <td>Documentary</td>\n",
       "      <td>Film-Noir</td>\n",
       "      <td>War</td>\n",
       "      <td>Film-Noir</td>\n",
       "      <td>Film-Noir</td>\n",
       "      <td>Film-Noir</td>\n",
       "      <td>Film-Noir</td>\n",
       "      <td>Film-Noir</td>\n",
       "      <td>Film-Noir</td>\n",
       "      <td>Documentary</td>\n",
       "    </tr>\n",
       "    <tr>\n",
       "      <th>2nd</th>\n",
       "      <td>Documentary</td>\n",
       "      <td>Documentary</td>\n",
       "      <td>Documentary</td>\n",
       "      <td>Documentary</td>\n",
       "      <td>War</td>\n",
       "      <td>Documentary</td>\n",
       "      <td>War</td>\n",
       "      <td>Documentary</td>\n",
       "      <td>Documentary</td>\n",
       "      <td>Documentary</td>\n",
       "      <td>...</td>\n",
       "      <td>Film-Noir</td>\n",
       "      <td>Documentary</td>\n",
       "      <td>Musical</td>\n",
       "      <td>Documentary</td>\n",
       "      <td>War</td>\n",
       "      <td>Documentary</td>\n",
       "      <td>War</td>\n",
       "      <td>Documentary</td>\n",
       "      <td>Documentary</td>\n",
       "      <td>Film-Noir</td>\n",
       "    </tr>\n",
       "    <tr>\n",
       "      <th>3rd</th>\n",
       "      <td>War</td>\n",
       "      <td>War</td>\n",
       "      <td>War</td>\n",
       "      <td>War</td>\n",
       "      <td>Documentary</td>\n",
       "      <td>War</td>\n",
       "      <td>Drama</td>\n",
       "      <td>War</td>\n",
       "      <td>War</td>\n",
       "      <td>War</td>\n",
       "      <td>...</td>\n",
       "      <td>War</td>\n",
       "      <td>War</td>\n",
       "      <td>Documentary</td>\n",
       "      <td>War</td>\n",
       "      <td>Western</td>\n",
       "      <td>War</td>\n",
       "      <td>Documentary</td>\n",
       "      <td>Animation</td>\n",
       "      <td>War</td>\n",
       "      <td>War</td>\n",
       "    </tr>\n",
       "    <tr>\n",
       "      <th>4th</th>\n",
       "      <td>Drama</td>\n",
       "      <td>Drama</td>\n",
       "      <td>Drama</td>\n",
       "      <td>Animation</td>\n",
       "      <td>Drama</td>\n",
       "      <td>Drama</td>\n",
       "      <td>Crime</td>\n",
       "      <td>Drama</td>\n",
       "      <td>Drama</td>\n",
       "      <td>Drama</td>\n",
       "      <td>...</td>\n",
       "      <td>Western</td>\n",
       "      <td>Drama</td>\n",
       "      <td>Animation</td>\n",
       "      <td>Crime</td>\n",
       "      <td>Animation</td>\n",
       "      <td>Animation</td>\n",
       "      <td>Drama</td>\n",
       "      <td>War</td>\n",
       "      <td>Drama</td>\n",
       "      <td>Drama</td>\n",
       "    </tr>\n",
       "    <tr>\n",
       "      <th>5th</th>\n",
       "      <td>Animation</td>\n",
       "      <td>Crime</td>\n",
       "      <td>Mystery</td>\n",
       "      <td>Musical</td>\n",
       "      <td>Western</td>\n",
       "      <td>Animation</td>\n",
       "      <td>Mystery</td>\n",
       "      <td>Crime</td>\n",
       "      <td>Crime</td>\n",
       "      <td>Musical</td>\n",
       "      <td>...</td>\n",
       "      <td>Drama</td>\n",
       "      <td>Mystery</td>\n",
       "      <td>Drama</td>\n",
       "      <td>Drama</td>\n",
       "      <td>Drama</td>\n",
       "      <td>Drama</td>\n",
       "      <td>Mystery</td>\n",
       "      <td>Drama</td>\n",
       "      <td>Animation</td>\n",
       "      <td>Crime</td>\n",
       "    </tr>\n",
       "  </tbody>\n",
       "</table>\n",
       "<p>5 rows × 21 columns</p>\n",
       "</div>"
      ],
      "text/plain": [
       "    not specified college/grad student       lawyer       writer   programmer  \\\n",
       "1st     Film-Noir            Film-Noir    Film-Noir    Film-Noir    Film-Noir   \n",
       "2nd   Documentary          Documentary  Documentary  Documentary          War   \n",
       "3rd           War                  War          War          War  Documentary   \n",
       "4th         Drama                Drama        Drama    Animation        Drama   \n",
       "5th     Animation                Crime      Mystery      Musical      Western   \n",
       "\n",
       "    technician/engineer K-12 student self-employed executive/managerial  \\\n",
       "1st           Film-Noir    Film-Noir     Film-Noir            Film-Noir   \n",
       "2nd         Documentary          War   Documentary          Documentary   \n",
       "3rd                 War        Drama           War                  War   \n",
       "4th               Drama        Crime         Drama                Drama   \n",
       "5th           Animation      Mystery         Crime                Crime   \n",
       "\n",
       "    academic/educator  ...       farmer       artist    homemaker  \\\n",
       "1st         Film-Noir  ...  Documentary    Film-Noir          War   \n",
       "2nd       Documentary  ...    Film-Noir  Documentary      Musical   \n",
       "3rd               War  ...          War          War  Documentary   \n",
       "4th             Drama  ...      Western        Drama    Animation   \n",
       "5th           Musical  ...        Drama      Mystery        Drama   \n",
       "\n",
       "      unemployed tradesman/craftsman    scientist      retired  \\\n",
       "1st    Film-Noir           Film-Noir    Film-Noir    Film-Noir   \n",
       "2nd  Documentary                 War  Documentary          War   \n",
       "3rd          War             Western          War  Documentary   \n",
       "4th        Crime           Animation    Animation        Drama   \n",
       "5th        Drama               Drama        Drama      Mystery   \n",
       "\n",
       "    customer service sales/marketing doctor/health care  \n",
       "1st        Film-Noir       Film-Noir        Documentary  \n",
       "2nd      Documentary     Documentary          Film-Noir  \n",
       "3rd        Animation             War                War  \n",
       "4th              War           Drama              Drama  \n",
       "5th            Drama       Animation              Crime  \n",
       "\n",
       "[5 rows x 21 columns]"
      ]
     },
     "execution_count": 552,
     "metadata": {},
     "output_type": "execute_result"
    }
   ],
   "source": [
    "#Adding top 5 movies for each occupation to the dataframe\n",
    "#Iterating through the list of occupations\n",
    "i = 0\n",
    "for occupation in occupations:\n",
    "    top_movies = genre_index_all.loc[occupation].sort_values(ascending=False) #Get all avg movie rating for an occupation and sort in descending order\n",
    "    top_movies = top_movies.reset_index(level=['genres']) #Reset index to make the genres a column\n",
    "    top_movies = top_movies['genres'] #isolate the genres column (we don't need the ratings anymore, only used to sort)\n",
    "    top_movies = top_movies.iloc[:5] #get top 5 movies\n",
    "    top_movies_list = top_movies.tolist() #turn the series into a list in order to use insert \n",
    "    top_ranked_by_occ.insert(i, occupation, top_movies_list) #insert values into column and name the column by occupation\n",
    "    i += 1\n",
    "    \n",
    "top_ranked_by_occ"
   ]
  },
  {
   "cell_type": "markdown",
   "metadata": {},
   "source": [
    "**Question 3:** *The most popular (with the most ratings) movie by age group.*"
   ]
  },
  {
   "cell_type": "code",
   "execution_count": 553,
   "metadata": {},
   "outputs": [],
   "source": [
    "#make a pivot table that shows the number of ratings for each movie by age group\n",
    "rating_by_age = data.pivot_table('rating', index='age', columns='title', aggfunc='count')"
   ]
  },
  {
   "cell_type": "code",
   "execution_count": 554,
   "metadata": {},
   "outputs": [],
   "source": [
    "#Get list of all age groups \n",
    "ages = data['age'].unique()"
   ]
  },
  {
   "cell_type": "code",
   "execution_count": 555,
   "metadata": {
    "scrolled": true
   },
   "outputs": [],
   "source": [
    "#Create empty dataframe\n",
    "fav_movies_by_age = pd.DataFrame(columns = ['age', 'most popular title'])"
   ]
  },
  {
   "cell_type": "code",
   "execution_count": 556,
   "metadata": {
    "scrolled": true
   },
   "outputs": [
    {
     "data": {
      "text/html": [
       "<div>\n",
       "<style scoped>\n",
       "    .dataframe tbody tr th:only-of-type {\n",
       "        vertical-align: middle;\n",
       "    }\n",
       "\n",
       "    .dataframe tbody tr th {\n",
       "        vertical-align: top;\n",
       "    }\n",
       "\n",
       "    .dataframe thead th {\n",
       "        text-align: right;\n",
       "    }\n",
       "</style>\n",
       "<table border=\"1\" class=\"dataframe\">\n",
       "  <thead>\n",
       "    <tr style=\"text-align: right;\">\n",
       "      <th></th>\n",
       "      <th>age</th>\n",
       "      <th>most popular title</th>\n",
       "    </tr>\n",
       "  </thead>\n",
       "  <tbody>\n",
       "    <tr>\n",
       "      <th>0</th>\n",
       "      <td>25-34</td>\n",
       "      <td>Star Wars: Episode V - The Empire Strikes Back...</td>\n",
       "    </tr>\n",
       "    <tr>\n",
       "      <th>1</th>\n",
       "      <td>18-24</td>\n",
       "      <td>Star Wars: Episode VI - Return of the Jedi (1983)</td>\n",
       "    </tr>\n",
       "    <tr>\n",
       "      <th>2</th>\n",
       "      <td>35-44</td>\n",
       "      <td>Star Wars: Episode V - The Empire Strikes Back...</td>\n",
       "    </tr>\n",
       "    <tr>\n",
       "      <th>3</th>\n",
       "      <td>Under 18</td>\n",
       "      <td>Star Wars: Episode VI - Return of the Jedi (1983)</td>\n",
       "    </tr>\n",
       "    <tr>\n",
       "      <th>4</th>\n",
       "      <td>56+</td>\n",
       "      <td>Star Wars: Episode V - The Empire Strikes Back...</td>\n",
       "    </tr>\n",
       "    <tr>\n",
       "      <th>5</th>\n",
       "      <td>50-55</td>\n",
       "      <td>Star Wars: Episode V - The Empire Strikes Back...</td>\n",
       "    </tr>\n",
       "    <tr>\n",
       "      <th>6</th>\n",
       "      <td>45-49</td>\n",
       "      <td>Star Wars: Episode V - The Empire Strikes Back...</td>\n",
       "    </tr>\n",
       "  </tbody>\n",
       "</table>\n",
       "</div>"
      ],
      "text/plain": [
       "        age                                 most popular title\n",
       "0     25-34  Star Wars: Episode V - The Empire Strikes Back...\n",
       "1     18-24  Star Wars: Episode VI - Return of the Jedi (1983)\n",
       "2     35-44  Star Wars: Episode V - The Empire Strikes Back...\n",
       "3  Under 18  Star Wars: Episode VI - Return of the Jedi (1983)\n",
       "4       56+  Star Wars: Episode V - The Empire Strikes Back...\n",
       "5     50-55  Star Wars: Episode V - The Empire Strikes Back...\n",
       "6     45-49  Star Wars: Episode V - The Empire Strikes Back..."
      ]
     },
     "execution_count": 556,
     "metadata": {},
     "output_type": "execute_result"
    }
   ],
   "source": [
    "#for each age, find the movie title with the most ratings using loc\n",
    "for age_group in ages:\n",
    "    age_ratings = rating_by_age.loc[age_group]\n",
    "    age_max = age_ratings.idxmax()\n",
    "    fav_movies_by_age = fav_movies_by_age.append({'age':age_group, 'most popular title':age_max}, ignore_index=True)\n",
    "    \n",
    "fav_movies_by_age"
   ]
  },
  {
   "cell_type": "markdown",
   "metadata": {},
   "source": [
    "**Question 4:** *A breakdown of a movie’s ratings by occupation, using any movie of your choice.*"
   ]
  },
  {
   "cell_type": "code",
   "execution_count": 557,
   "metadata": {
    "scrolled": true
   },
   "outputs": [
    {
     "data": {
      "text/plain": [
       "occupation\n",
       "K-12 student            3.482143\n",
       "academic/educator       3.503497\n",
       "artist                  3.388060\n",
       "clerical/admin          3.822222\n",
       "college/grad student    3.390756\n",
       "customer service        3.777778\n",
       "doctor/health care      3.819672\n",
       "executive/managerial    3.640000\n",
       "farmer                  4.666667\n",
       "homemaker               4.107143\n",
       "lawyer                  3.461538\n",
       "not specified           3.614525\n",
       "programmer              3.722222\n",
       "retired                 3.750000\n",
       "sales/marketing         3.753247\n",
       "scientist               3.807692\n",
       "self-employed           3.602941\n",
       "technician/engineer     3.765217\n",
       "tradesman/craftsman     3.263158\n",
       "unemployed              3.000000\n",
       "writer                  3.183099\n",
       "Name: Titanic (1997), dtype: float64"
      ]
     },
     "execution_count": 557,
     "metadata": {},
     "output_type": "execute_result"
    }
   ],
   "source": [
    "#Per prof's instructions: Each row is a movie title, each column an occupation, and each value an aggregate of the \n",
    "#ratings for that movie given by users of each particular occupation\n",
    "#I chose to look at 'Titanic'\n",
    "movie_breakdown = data.pivot_table('rating', index='title', columns='occupation', aggfunc='mean')\n",
    "titanic_info = movie_breakdown.loc['Titanic (1997)']\n",
    "titanic_info"
   ]
  },
  {
   "cell_type": "markdown",
   "metadata": {},
   "source": [
    "**Question 5:** *A function that given a user id, returns: (1) this user’s age and occupation, (2) the average rating given by this user, and (3) his highest and lowest rated movie(s).*"
   ]
  },
  {
   "cell_type": "code",
   "execution_count": 558,
   "metadata": {},
   "outputs": [],
   "source": [
    "def user_data(user_id):\n",
    "    #Getting all the person's information\n",
    "    user_info = data.loc[data['user_id']==user_id]\n",
    "    \n",
    "    #Check if this user actually exists (if they don't, the dataframe will be empty)\n",
    "    if(user_info.empty):\n",
    "        return None;\n",
    "    \n",
    "    #Getting the user's age\n",
    "    age = user_info.at[0, 'age']\n",
    "    \n",
    "    #Getting the user's occupation\n",
    "    occupation = user_info.at[0, 'occupation']\n",
    "    \n",
    "    #Getting the user's mean (average) rating\n",
    "    mean_rating = user_info['rating'].mean()\n",
    "    \n",
    "    #Getting the min value rating that the person gave\n",
    "    min_rating = user_info['rating'].min()\n",
    "    \n",
    "    #Getting the max value rating that the person gave\n",
    "    max_rating = user_info['rating'].max()\n",
    "    \n",
    "    #Getting all movie titles and getting their avg rating\n",
    "    all_user_titles = user_info.groupby('title')['rating'].mean()\n",
    "    \n",
    "    #Getting all titles with a rating equal to min value (in a list, to add to dict)\n",
    "    min_titles = all_user_titles[all_user_titles == min_rating]\n",
    "    min_titles_list = min_titles.index.values.tolist()\n",
    "    \n",
    "    #Getting all titles with a rating equal to max value (in a list, to add to dict)\n",
    "    max_titles = all_user_titles[all_user_titles == max_rating]\n",
    "    max_titles_list = max_titles.index.values.tolist()\n",
    "    \n",
    "    #putting all the values into the dictionary to return\n",
    "    compiled_user_info = dict();\n",
    "    compiled_user_info['age'] = age\n",
    "    compiled_user_info['occupation'] = occupation\n",
    "    compiled_user_info['average rating'] = mean_rating\n",
    "    compiled_user_info['lowest rated movie(s)'] = min_titles_list\n",
    "    compiled_user_info['highest rated movie(s)'] = max_titles_list\n",
    "    \n",
    "    #return the dictionary\n",
    "    return compiled_user_info"
   ]
  },
  {
   "cell_type": "markdown",
   "metadata": {},
   "source": [
    "**NOTE:** Below is the same code/logic from my function, but separated out so that you can call each one and it will just print the values that the function returns in the dictionary. Make sure to enter the user_id in the next cell. Currently it is user_id = 2917 as a placeholder."
   ]
  },
  {
   "cell_type": "code",
   "execution_count": 559,
   "metadata": {},
   "outputs": [],
   "source": [
    "#Getting all the person's information\n",
    "user_info = data.loc[data['user_id']==2917]"
   ]
  },
  {
   "cell_type": "code",
   "execution_count": 560,
   "metadata": {},
   "outputs": [
    {
     "name": "stdout",
     "output_type": "stream",
     "text": [
      "user age range: 25-34\n"
     ]
    }
   ],
   "source": [
    "#Getting the user's age\n",
    "age = user_info.at[0, 'age']\n",
    "print('user age range: ' + age)"
   ]
  },
  {
   "cell_type": "code",
   "execution_count": 561,
   "metadata": {},
   "outputs": [
    {
     "name": "stdout",
     "output_type": "stream",
     "text": [
      "user occupation: not specified\n"
     ]
    }
   ],
   "source": [
    "#Getting the user's occupation\n",
    "occupation = user_info.at[0, 'occupation']\n",
    "print('user occupation: ' + occupation)"
   ]
  },
  {
   "cell_type": "code",
   "execution_count": 562,
   "metadata": {},
   "outputs": [],
   "source": [
    "#Getting the user's mean (average) rating\n",
    "mean_rating = user_info['rating'].mean()"
   ]
  },
  {
   "cell_type": "code",
   "execution_count": 563,
   "metadata": {},
   "outputs": [
    {
     "name": "stdout",
     "output_type": "stream",
     "text": [
      "user min rating: 1\n"
     ]
    }
   ],
   "source": [
    "#Getting the min value rating that the person gave\n",
    "min_rating = user_info['rating'].min()\n",
    "print('user min rating: ' + repr(min_rating))"
   ]
  },
  {
   "cell_type": "code",
   "execution_count": 564,
   "metadata": {},
   "outputs": [
    {
     "name": "stdout",
     "output_type": "stream",
     "text": [
      "user max rating: 5\n"
     ]
    }
   ],
   "source": [
    "#Getting the max value rating that the person gave\n",
    "max_rating = user_info['rating'].max()\n",
    "print('user max rating: ' + repr(max_rating))"
   ]
  },
  {
   "cell_type": "code",
   "execution_count": 565,
   "metadata": {},
   "outputs": [],
   "source": [
    "#Getting all movie titles and getting their avg rating\n",
    "all_user_titles = user_info.groupby('title')['rating'].mean()"
   ]
  },
  {
   "cell_type": "code",
   "execution_count": 566,
   "metadata": {},
   "outputs": [
    {
     "name": "stdout",
     "output_type": "stream",
     "text": [
      "list of lowest rated titles: ['Arachnophobia (1990)', 'Entrapment (1999)']\n"
     ]
    }
   ],
   "source": [
    "#Getting all titles with a rating equal to min value (in a list, to return)\n",
    "min_titles = all_user_titles[all_user_titles == min_rating]\n",
    "min_titles_list = min_titles.index.values.tolist()\n",
    "print('list of lowest rated titles: ' + repr(min_titles_list))"
   ]
  },
  {
   "cell_type": "code",
   "execution_count": 567,
   "metadata": {},
   "outputs": [
    {
     "name": "stdout",
     "output_type": "stream",
     "text": [
      "list of highest rated titles: ['Annie Hall (1977)', 'Blade Runner (1982)', 'Citizen Kane (1941)', 'City Lights (1931)', 'Crumb (1994)', 'Fandango (1985)', 'Fargo (1996)', 'Hard-Boiled (Lashou shentan) (1992)', 'Killer, The (Die xue shuang xiong) (1989)', 'North by Northwest (1959)', 'Paradise Lost: The Child Murders at Robin Hood Hills (1996)', 'Pulp Fiction (1994)', 'Raging Bull (1980)', 'Raiders of the Lost Ark (1981)', 'Rear Window (1954)', 'Strangers on a Train (1951)', 'Vertigo (1958)']\n"
     ]
    }
   ],
   "source": [
    "#Getting all titles with a rating equal to max value (in a list, to return)\n",
    "max_titles = all_user_titles[all_user_titles == max_rating]\n",
    "max_titles_list = max_titles.index.values.tolist()\n",
    "print('list of highest rated titles: ' + repr(max_titles_list))"
   ]
  },
  {
   "cell_type": "markdown",
   "metadata": {},
   "source": [
    "**Question 6:** *Some other statistic, figure, aggregate, or plot that you created using this dataset, along with a short description of what interesting observations you derived from it.*"
   ]
  },
  {
   "cell_type": "markdown",
   "metadata": {},
   "source": [
    "I wanted to look at how popular (with the most ratings) every genre of movie is across age and gender. The best way I thought to display this data would be in a stacked bar graph, where each bar represents an age and gender (i.e. 18-24 yr old women) and the different colours in the bar represent the proportion of genres. We could then also see, from the plot as a whole, which group watched the most movies (i.e. most ratings)."
   ]
  },
  {
   "cell_type": "code",
   "execution_count": 568,
   "metadata": {},
   "outputs": [],
   "source": [
    "import matplotlib.pyplot as plt"
   ]
  },
  {
   "cell_type": "code",
   "execution_count": 569,
   "metadata": {},
   "outputs": [],
   "source": [
    "#Get colormap for the plot\n",
    "cmap = plt.get_cmap('tab20')"
   ]
  },
  {
   "cell_type": "code",
   "execution_count": 570,
   "metadata": {},
   "outputs": [],
   "source": [
    "#Make the pivot table with all info needed\n",
    "genres_by_gender = data.pivot_table('rating', index=['gender', 'age'], columns='genres', aggfunc='count')"
   ]
  },
  {
   "cell_type": "code",
   "execution_count": 571,
   "metadata": {},
   "outputs": [
    {
     "data": {
      "image/png": "[encoded data removed]",
      "text/plain": [
       "<Figure size 1584x1440 with 1 Axes>"
      ]
     },
     "metadata": {
      "needs_background": "light"
     },
     "output_type": "display_data"
    }
   ],
   "source": [
    "#Creating the plot to show data above\n",
    "graph = genres_by_gender.plot(kind='bar', stacked=True, figsize=(22,20), fontsize=18, colormap=\"tab20\")\n",
    "plt.xlabel('Gender and Age', fontsize = 18)\n",
    "plt.ylabel('Popularity (# of Ratings)', fontsize = 18)\n",
    "plt.title('Popularity of Genres by Gender and Age', fontsize = 24)\n",
    "legend = graph.legend(title='Genres', loc=1, fontsize=14)\n",
    "legend.get_title().set_fontsize(16)"
   ]
  },
  {
   "cell_type": "markdown",
   "metadata": {},
   "source": [
    "From the above plot, we can observe a couple key things:\n",
    "1. We can see that men, aged 25-34 watch the most movies (they had the most ratings overall), while women, aged 56+ watch the least amount of movies (had the least ratings overall). \n",
    "2. For any of the age groups, we can see what the most popular genres are. For example, in women, aged 25-34, the most popular genres are Drama and Comedy. \n",
    "3. Similarly, we can see what the least popular genres are for different age groups and genders. For example, it seems like men, aged 18-24 watch very little Western films and Film-Noir films."
   ]
  },
  {
   "cell_type": "code",
   "execution_count": null,
   "metadata": {},
   "outputs": [],
   "source": []
  }
 ],
 "metadata": {
  "kernelspec": {
   "display_name": "Python 3",
   "language": "python",
   "name": "python3"
  },
  "language_info": {
   "codemirror_mode": {
    "name": "ipython",
    "version": 3
   },
   "file_extension": ".py",
   "mimetype": "text/x-python",
   "name": "python",
   "nbconvert_exporter": "python",
   "pygments_lexer": "ipython3",
   "version": "3.8.5"
  }
 },
 "nbformat": 4,
 "nbformat_minor": 1
}
